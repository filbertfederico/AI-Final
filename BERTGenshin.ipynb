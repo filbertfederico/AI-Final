{
 "cells": [
  {
   "cell_type": "code",
   "execution_count": 26,
   "id": "0fb2e176-f4ed-4cfe-89fd-0a1a22416bd8",
   "metadata": {},
   "outputs": [
    {
     "name": "stdout",
     "output_type": "stream",
     "text": [
      "No GPU available, using the CPU instead\n"
     ]
    }
   ],
   "source": [
    "#im using CPU hehe\n",
    "import torch\n",
    "\n",
    "if torch.cuda.is_available():\n",
    "  device = torch.device('cuda')\n",
    "\n",
    "  print('there are %d GPU(s) available.' % torch.cuda.device_count())\n",
    "\n",
    "  print('we will use the GPU: ', torch.cuda.get_device_name(0))\n",
    "\n",
    "else:\n",
    "  print(\"No GPU available, using the CPU instead\")\n",
    "  device = torch.device(\"cpu\")"
   ]
  },
  {
   "cell_type": "code",
   "execution_count": 27,
   "id": "42b9ba51-5a01-49e4-93c0-893703de3d44",
   "metadata": {},
   "outputs": [],
   "source": [
    "#do pip install transformers if haven't"
   ]
  },
  {
   "cell_type": "code",
   "execution_count": 28,
   "id": "65b72b2d-35de-4b24-83f1-61533312ae85",
   "metadata": {},
   "outputs": [
    {
     "data": {
      "text/plain": [
       "(2000, 2)"
      ]
     },
     "execution_count": 28,
     "metadata": {},
     "output_type": "execute_result"
    }
   ],
   "source": [
    "import pandas as pd\n",
    "\n",
    "df = pd.read_csv(\"./GenshinReview.csv\")\n",
    "df.shape"
   ]
  },
  {
   "cell_type": "code",
   "execution_count": 29,
   "id": "2f0730da-a87e-41fb-92d8-81eb892d8ec6",
   "metadata": {},
   "outputs": [
    {
     "data": {
      "text/html": [
       "<div>\n",
       "<style scoped>\n",
       "    .dataframe tbody tr th:only-of-type {\n",
       "        vertical-align: middle;\n",
       "    }\n",
       "\n",
       "    .dataframe tbody tr th {\n",
       "        vertical-align: top;\n",
       "    }\n",
       "\n",
       "    .dataframe thead th {\n",
       "        text-align: right;\n",
       "    }\n",
       "</style>\n",
       "<table border=\"1\" class=\"dataframe\">\n",
       "  <thead>\n",
       "    <tr style=\"text-align: right;\">\n",
       "      <th></th>\n",
       "      <th>score</th>\n",
       "      <th>content</th>\n",
       "    </tr>\n",
       "  </thead>\n",
       "  <tbody>\n",
       "    <tr>\n",
       "      <th>1860</th>\n",
       "      <td>5</td>\n",
       "      <td>i really enjoy this game so far graphics are a...</td>\n",
       "    </tr>\n",
       "    <tr>\n",
       "      <th>353</th>\n",
       "      <td>4</td>\n",
       "      <td>it is a great game but everytime the hoyoverse...</td>\n",
       "    </tr>\n",
       "    <tr>\n",
       "      <th>1333</th>\n",
       "      <td>5</td>\n",
       "      <td>beautiful graphics a perfect eye candy immersi...</td>\n",
       "    </tr>\n",
       "    <tr>\n",
       "      <th>905</th>\n",
       "      <td>1</td>\n",
       "      <td>unplayable on phone it kicks me out every few ...</td>\n",
       "    </tr>\n",
       "    <tr>\n",
       "      <th>1289</th>\n",
       "      <td>5</td>\n",
       "      <td>congrats for winning in the best mobile games ...</td>\n",
       "    </tr>\n",
       "    <tr>\n",
       "      <th>1273</th>\n",
       "      <td>3</td>\n",
       "      <td>amazing game gripping story and well written c...</td>\n",
       "    </tr>\n",
       "    <tr>\n",
       "      <th>938</th>\n",
       "      <td>5</td>\n",
       "      <td>ngl i found this game off of a cute fan made p...</td>\n",
       "    </tr>\n",
       "    <tr>\n",
       "      <th>1731</th>\n",
       "      <td>2</td>\n",
       "      <td>graphics and pretty neat but i had to rate it ...</td>\n",
       "    </tr>\n",
       "    <tr>\n",
       "      <th>65</th>\n",
       "      <td>1</td>\n",
       "      <td>greedy company that does not reinvest into the...</td>\n",
       "    </tr>\n",
       "    <tr>\n",
       "      <th>1323</th>\n",
       "      <td>4</td>\n",
       "      <td>the music the world the graphics everything is...</td>\n",
       "    </tr>\n",
       "  </tbody>\n",
       "</table>\n",
       "</div>"
      ],
      "text/plain": [
       "      score                                            content\n",
       "1860      5  i really enjoy this game so far graphics are a...\n",
       "353       4  it is a great game but everytime the hoyoverse...\n",
       "1333      5  beautiful graphics a perfect eye candy immersi...\n",
       "905       1  unplayable on phone it kicks me out every few ...\n",
       "1289      5  congrats for winning in the best mobile games ...\n",
       "1273      3  amazing game gripping story and well written c...\n",
       "938       5  ngl i found this game off of a cute fan made p...\n",
       "1731      2  graphics and pretty neat but i had to rate it ...\n",
       "65        1  greedy company that does not reinvest into the...\n",
       "1323      4  the music the world the graphics everything is..."
      ]
     },
     "execution_count": 29,
     "metadata": {},
     "output_type": "execute_result"
    }
   ],
   "source": [
    "df.sample(10)"
   ]
  },
  {
   "cell_type": "code",
   "execution_count": 30,
   "id": "87e3612a-cbcb-43b2-93a3-30ae7f3f5956",
   "metadata": {},
   "outputs": [
    {
     "data": {
      "text/html": [
       "<div>\n",
       "<style scoped>\n",
       "    .dataframe tbody tr th:only-of-type {\n",
       "        vertical-align: middle;\n",
       "    }\n",
       "\n",
       "    .dataframe tbody tr th {\n",
       "        vertical-align: top;\n",
       "    }\n",
       "\n",
       "    .dataframe thead th {\n",
       "        text-align: right;\n",
       "    }\n",
       "</style>\n",
       "<table border=\"1\" class=\"dataframe\">\n",
       "  <thead>\n",
       "    <tr style=\"text-align: right;\">\n",
       "      <th></th>\n",
       "      <th>score</th>\n",
       "      <th>content</th>\n",
       "      <th>sentiment</th>\n",
       "    </tr>\n",
       "  </thead>\n",
       "  <tbody>\n",
       "    <tr>\n",
       "      <th>0</th>\n",
       "      <td>5</td>\n",
       "      <td>the game is great audio background etc are all...</td>\n",
       "      <td>2</td>\n",
       "    </tr>\n",
       "    <tr>\n",
       "      <th>1</th>\n",
       "      <td>4</td>\n",
       "      <td>the world building characters art design and g...</td>\n",
       "      <td>2</td>\n",
       "    </tr>\n",
       "    <tr>\n",
       "      <th>2</th>\n",
       "      <td>4</td>\n",
       "      <td>this game is fun but at the time that fontaine...</td>\n",
       "      <td>2</td>\n",
       "    </tr>\n",
       "    <tr>\n",
       "      <th>3</th>\n",
       "      <td>4</td>\n",
       "      <td>this game is beautiful and the game is very fu...</td>\n",
       "      <td>2</td>\n",
       "    </tr>\n",
       "    <tr>\n",
       "      <th>4</th>\n",
       "      <td>4</td>\n",
       "      <td>lost on furina banner but all together it is a...</td>\n",
       "      <td>2</td>\n",
       "    </tr>\n",
       "    <tr>\n",
       "      <th>5</th>\n",
       "      <td>1</td>\n",
       "      <td>after years of waiting still no controller sup...</td>\n",
       "      <td>0</td>\n",
       "    </tr>\n",
       "    <tr>\n",
       "      <th>6</th>\n",
       "      <td>4</td>\n",
       "      <td>i love genshin but there is only one problem a...</td>\n",
       "      <td>2</td>\n",
       "    </tr>\n",
       "    <tr>\n",
       "      <th>7</th>\n",
       "      <td>4</td>\n",
       "      <td>awesome graphics if your phone can handle and ...</td>\n",
       "      <td>2</td>\n",
       "    </tr>\n",
       "    <tr>\n",
       "      <th>8</th>\n",
       "      <td>1</td>\n",
       "      <td>i do not know what is happening but when i cli...</td>\n",
       "      <td>0</td>\n",
       "    </tr>\n",
       "    <tr>\n",
       "      <th>9</th>\n",
       "      <td>5</td>\n",
       "      <td>the story is at peak level and not to mention ...</td>\n",
       "      <td>2</td>\n",
       "    </tr>\n",
       "    <tr>\n",
       "      <th>10</th>\n",
       "      <td>3</td>\n",
       "      <td>ngl games great but my storage cannot keep up ...</td>\n",
       "      <td>1</td>\n",
       "    </tr>\n",
       "    <tr>\n",
       "      <th>11</th>\n",
       "      <td>5</td>\n",
       "      <td>this is a very interesting and long term story...</td>\n",
       "      <td>2</td>\n",
       "    </tr>\n",
       "    <tr>\n",
       "      <th>12</th>\n",
       "      <td>5</td>\n",
       "      <td>the games a very beautiful and the story and l...</td>\n",
       "      <td>2</td>\n",
       "    </tr>\n",
       "    <tr>\n",
       "      <th>13</th>\n",
       "      <td>5</td>\n",
       "      <td>it is amazing and it does have a weird fandom ...</td>\n",
       "      <td>2</td>\n",
       "    </tr>\n",
       "    <tr>\n",
       "      <th>14</th>\n",
       "      <td>5</td>\n",
       "      <td>i soooooo love the game i played it since twen...</td>\n",
       "      <td>2</td>\n",
       "    </tr>\n",
       "    <tr>\n",
       "      <th>15</th>\n",
       "      <td>3</td>\n",
       "      <td>the game is heavy if your using phone when pla...</td>\n",
       "      <td>1</td>\n",
       "    </tr>\n",
       "    <tr>\n",
       "      <th>16</th>\n",
       "      <td>1</td>\n",
       "      <td>i hate it when the screen turns black and i ha...</td>\n",
       "      <td>0</td>\n",
       "    </tr>\n",
       "    <tr>\n",
       "      <th>17</th>\n",
       "      <td>4</td>\n",
       "      <td>giving this game a four stars instead of five ...</td>\n",
       "      <td>2</td>\n",
       "    </tr>\n",
       "    <tr>\n",
       "      <th>18</th>\n",
       "      <td>4</td>\n",
       "      <td>this game is very good they are very generous ...</td>\n",
       "      <td>2</td>\n",
       "    </tr>\n",
       "    <tr>\n",
       "      <th>19</th>\n",
       "      <td>2</td>\n",
       "      <td>so the game is great and all i was playing the...</td>\n",
       "      <td>0</td>\n",
       "    </tr>\n",
       "  </tbody>\n",
       "</table>\n",
       "</div>"
      ],
      "text/plain": [
       "    score                                            content  sentiment\n",
       "0       5  the game is great audio background etc are all...          2\n",
       "1       4  the world building characters art design and g...          2\n",
       "2       4  this game is fun but at the time that fontaine...          2\n",
       "3       4  this game is beautiful and the game is very fu...          2\n",
       "4       4  lost on furina banner but all together it is a...          2\n",
       "5       1  after years of waiting still no controller sup...          0\n",
       "6       4  i love genshin but there is only one problem a...          2\n",
       "7       4  awesome graphics if your phone can handle and ...          2\n",
       "8       1  i do not know what is happening but when i cli...          0\n",
       "9       5  the story is at peak level and not to mention ...          2\n",
       "10      3  ngl games great but my storage cannot keep up ...          1\n",
       "11      5  this is a very interesting and long term story...          2\n",
       "12      5  the games a very beautiful and the story and l...          2\n",
       "13      5  it is amazing and it does have a weird fandom ...          2\n",
       "14      5  i soooooo love the game i played it since twen...          2\n",
       "15      3  the game is heavy if your using phone when pla...          1\n",
       "16      1  i hate it when the screen turns black and i ha...          0\n",
       "17      4  giving this game a four stars instead of five ...          2\n",
       "18      4  this game is very good they are very generous ...          2\n",
       "19      2  so the game is great and all i was playing the...          0"
      ]
     },
     "execution_count": 30,
     "metadata": {},
     "output_type": "execute_result"
    }
   ],
   "source": [
    "#creating label called sentiment from the score reviews\n",
    "#1-2: negative\n",
    "#3: neutral\n",
    "#4-5: positive\n",
    "\n",
    "def map_rating_to_sentiment(rating):\n",
    "    if rating in [1, 2]:\n",
    "        return 0\n",
    "    elif rating == 3:\n",
    "        return 1\n",
    "    elif rating in [4, 5]:\n",
    "        return 2\n",
    "\n",
    "df['sentiment'] = df['score'].apply(map_rating_to_sentiment)\n",
    "\n",
    "df.head(20)"
   ]
  },
  {
   "cell_type": "code",
   "execution_count": 31,
   "id": "a6118939-b00a-48c9-9b01-b3baa5187b4c",
   "metadata": {},
   "outputs": [
    {
     "data": {
      "image/png": "[encoded data removed]",
      "text/plain": [
       "<Figure size 640x480 with 1 Axes>"
      ]
     },
     "metadata": {},
     "output_type": "display_data"
    }
   ],
   "source": [
    "import seaborn as sns\n",
    "import matplotlib.pyplot as plt\n",
    "\n",
    "#for now we have 2000 rows of reviews. we'll add more data perhaps later if the accuracy is still bad.\n",
    "x = df.sentiment.value_counts()\n",
    "sns.barplot(x=x.index, y=x)\n",
    "plt.gca().set_ylabel('reviews')\n",
    "plt.show()"
   ]
  },
  {
   "cell_type": "code",
   "execution_count": 32,
   "id": "c82d19b5-ca60-478b-8520-31424da41efa",
   "metadata": {},
   "outputs": [],
   "source": [
    "sentences = df.content.values\n",
    "labels = df.sentiment.values"
   ]
  },
  {
   "cell_type": "code",
   "execution_count": 33,
   "id": "4f0f76fb-cbf8-473b-8897-ee818ca96763",
   "metadata": {},
   "outputs": [
    {
     "name": "stdout",
     "output_type": "stream",
     "text": [
      "Loading BERT Tokenizer\n"
     ]
    }
   ],
   "source": [
    "from transformers import BertTokenizer\n",
    "#using pr etrained bert tokenizer\n",
    "print(\"Loading BERT Tokenizer\")\n",
    "tokenizer = BertTokenizer.from_pretrained('bert-base-multilingual-uncased', do_lower_case=True)"
   ]
  },
  {
   "cell_type": "code",
   "execution_count": 34,
   "id": "710c3f7e-f67b-4acd-b6c0-a877ae628f8a",
   "metadata": {},
   "outputs": [
    {
     "name": "stdout",
     "output_type": "stream",
     "text": [
      "Original:  the game is great audio background etc are all great but one thing i do not like is the wish system i do not have a five star character all i have got are four star character so it is suck to be a free to play unless you save a lot or primogems one good thing about it is you do not need a five star character to beat and enjoy the game though i do need the mc though as she can upgrade her constellations with just lvling up rank or the story progress yeah it is hard to earn primogems i guess i better sucked it up\n",
      "Tokenized:  ['the', 'game', 'is', 'great', 'audio', 'background', 'etc', 'are', 'all', 'great', 'but', 'one', 'thing', 'i', 'do', 'not', 'like', 'is', 'the', 'wish', 'system', 'i', 'do', 'not', 'have', 'a', 'five', 'star', 'character', 'all', 'i', 'have', 'got', 'are', 'four', 'star', 'character', 'so', 'it', 'is', 'suck', 'to', 'be', 'a', 'free', 'to', 'play', 'unless', 'you', 'save', 'a', 'lot', 'or', 'primo', '##gem', '##s', 'one', 'good', 'thing', 'about', 'it', 'is', 'you', 'do', 'not', 'need', 'a', 'five', 'star', 'character', 'to', 'beat', 'and', 'enjoy', 'the', 'game', 'though', 'i', 'do', 'need', 'the', 'mc', 'though', 'as', 'she', 'can', 'upgrade', 'her', 'constellation', '##s', 'with', 'just', 'lv', '##ling', 'up', 'rank', 'or', 'the', 'story', 'progress', 'yeah', 'it', 'is', 'hard', 'to', 'earn', 'primo', '##gem', '##s', 'i', 'gu', '##ess', 'i', 'better', 'suck', '##ed', 'it', 'up']\n",
      "Token IDS:  [10103, 11336, 10127, 11838, 18160, 23158, 12575, 10320, 10367, 11838, 10502, 10399, 21973, 151, 10154, 10497, 11531, 10127, 10103, 33020, 10472, 151, 10154, 10497, 10574, 143, 12049, 11424, 14989, 10367, 151, 10574, 15517, 10320, 11443, 11424, 14989, 10297, 10197, 10127, 59299, 10114, 10346, 143, 12487, 10114, 11923, 53804, 10855, 21343, 143, 15632, 10362, 12195, 21538, 10107, 10399, 12050, 21973, 10935, 10197, 10127, 10855, 10154, 10497, 15415, 143, 12049, 11424, 14989, 10114, 18477, 10110, 61530, 10103, 11336, 14325, 151, 10154, 15415, 10103, 22194, 14325, 10146, 10572, 10743, 82684, 10483, 65073, 10107, 10171, 12125, 74157, 12024, 10700, 24690, 10362, 10103, 12159, 22777, 82600, 10197, 10127, 15282, 10114, 59652, 12195, 21538, 10107, 151, 41567, 22523, 151, 16197, 59299, 10390, 10197, 10700]\n"
     ]
    }
   ],
   "source": [
    "print(\"Original: \", sentences[0])\n",
    "#yes it's not perfect, game word terms like primogems are not identified as english word.\n",
    "print(\"Tokenized: \", tokenizer.tokenize(sentences[0]))\n",
    "#tokenization time\n",
    "print(\"Token IDS: \", tokenizer.convert_tokens_to_ids(tokenizer.tokenize(sentences[0])))"
   ]
  },
  {
   "cell_type": "code",
   "execution_count": 35,
   "id": "c987ea87-1ae2-4cd4-a3e7-74d8f3a448dc",
   "metadata": {},
   "outputs": [
    {
     "name": "stdout",
     "output_type": "stream",
     "text": [
      "Original:  the game is great audio background etc are all great but one thing i do not like is the wish system i do not have a five star character all i have got are four star character so it is suck to be a free to play unless you save a lot or primogems one good thing about it is you do not need a five star character to beat and enjoy the game though i do need the mc though as she can upgrade her constellations with just lvling up rank or the story progress yeah it is hard to earn primogems i guess i better sucked it up\n",
      "Token IDs:  [101, 10103, 11336, 10127, 11838, 18160, 23158, 12575, 10320, 10367, 11838, 10502, 10399, 21973, 151, 10154, 10497, 11531, 10127, 10103, 33020, 10472, 151, 10154, 10497, 10574, 143, 12049, 11424, 14989, 10367, 151, 10574, 15517, 10320, 11443, 11424, 14989, 10297, 10197, 10127, 59299, 10114, 10346, 143, 12487, 10114, 11923, 53804, 10855, 21343, 143, 15632, 10362, 12195, 21538, 10107, 10399, 12050, 21973, 10935, 10197, 10127, 10855, 10154, 10497, 15415, 143, 12049, 11424, 14989, 10114, 18477, 10110, 61530, 10103, 11336, 14325, 151, 10154, 15415, 10103, 22194, 14325, 10146, 10572, 10743, 82684, 10483, 65073, 10107, 10171, 12125, 74157, 12024, 10700, 24690, 10362, 10103, 12159, 22777, 82600, 10197, 10127, 15282, 10114, 59652, 12195, 21538, 10107, 151, 41567, 22523, 151, 16197, 59299, 10390, 10197, 10700, 102]\n"
     ]
    }
   ],
   "source": [
    "input_ids = []\n",
    "\n",
    "for sent in sentences:\n",
    "  encoded_sent = tokenizer.encode(\n",
    "      sent,\n",
    "      add_special_tokens = True\n",
    "  )\n",
    "  input_ids.append(encoded_sent)\n",
    "\n",
    "print(\"Original: \", sentences[0])\n",
    "print(\"Token IDs: \", input_ids[0])\n"
   ]
  },
  {
   "cell_type": "code",
   "execution_count": 36,
   "id": "32880d3d-c569-4ddf-b396-591da9209d41",
   "metadata": {},
   "outputs": [
    {
     "name": "stdout",
     "output_type": "stream",
     "text": [
      "Max sentence length:  267\n"
     ]
    }
   ],
   "source": [
    "print(\"Max sentence length: \", max([len(sen) for sen in input_ids]))"
   ]
  },
  {
   "cell_type": "code",
   "execution_count": 37,
   "id": "48350909-3a6c-4beb-8ea4-ac95f76df530",
   "metadata": {},
   "outputs": [
    {
     "name": "stdout",
     "output_type": "stream",
     "text": [
      "Padding/truncating all sentences to 64 values\n",
      "Padding token: \"[PAD]\", ID: 0\n",
      "Done\n"
     ]
    }
   ],
   "source": [
    "from keras.preprocessing.sequence import pad_sequences\n",
    "\n",
    "MAX_LEN = 64\n",
    "\n",
    "print(\"Padding/truncating all sentences to %d values\" % MAX_LEN)\n",
    "print('Padding token: \"{:}\", ID: {:}'.format(tokenizer.pad_token, tokenizer.pad_token_id))\n",
    "\n",
    "input_ids = pad_sequences(input_ids, maxlen=MAX_LEN, dtype='long', value=0, truncating='post', padding='post')\n",
    "\n",
    "print(\"Done\")"
   ]
  },
  {
   "cell_type": "code",
   "execution_count": 38,
   "id": "7556e2be-6b91-4a8b-9bd0-7625be11f18a",
   "metadata": {},
   "outputs": [
    {
     "data": {
      "text/plain": [
       "array([  101, 10103, 11336, 10127, 11838, 18160, 23158, 12575, 10320,\n",
       "       10367, 11838, 10502, 10399, 21973,   151, 10154, 10497, 11531,\n",
       "       10127, 10103, 33020, 10472,   151, 10154, 10497, 10574,   143,\n",
       "       12049, 11424, 14989, 10367,   151, 10574, 15517, 10320, 11443,\n",
       "       11424, 14989, 10297, 10197, 10127, 59299, 10114, 10346,   143,\n",
       "       12487, 10114, 11923, 53804, 10855, 21343,   143, 15632, 10362,\n",
       "       12195, 21538, 10107, 10399, 12050, 21973, 10935, 10197, 10127,\n",
       "       10855])"
      ]
     },
     "execution_count": 38,
     "metadata": {},
     "output_type": "execute_result"
    }
   ],
   "source": [
    "input_ids[0]"
   ]
  },
  {
   "cell_type": "code",
   "execution_count": 39,
   "id": "a21e22b7-db63-41f8-80a4-6a74471808fe",
   "metadata": {},
   "outputs": [],
   "source": [
    "attention_mask = []\n",
    "\n",
    "for sent in input_ids:\n",
    "  att_mask = [int(token_id > 0) for token_id in sent]\n",
    "\n",
    "  attention_mask.append(att_mask)"
   ]
  },
  {
   "cell_type": "code",
   "execution_count": 40,
   "id": "a962323b-f6f3-4760-9043-1492dc8fa3ef",
   "metadata": {},
   "outputs": [],
   "source": [
    "from sklearn.model_selection import train_test_split\n",
    "\n",
    "train_input, test_input, train_labels, test_labels = train_test_split(input_ids,labels, random_state=42, test_size=0.1)\n",
    "train_mask, test_mask, _, _ = train_test_split(attention_mask, labels, random_state=42, test_size=0.1)\n",
    "\n",
    "train_input, validation_input, train_labels, validation_labels = train_test_split(train_input, train_labels, random_state= 43, test_size=0.15)\n",
    "train_mask, validation_mask, _, _ = train_test_split(train_mask, train_mask, random_state=43, test_size=0.15)"
   ]
  },
  {
   "cell_type": "code",
   "execution_count": 41,
   "id": "936bbcbf-b091-4cd5-bc32-d01a7d5177e6",
   "metadata": {},
   "outputs": [
    {
     "name": "stdout",
     "output_type": "stream",
     "text": [
      "== Train ==\n",
      "Input:  (1530, 64)\n",
      "Label:  (1530,)\n",
      "Mask:  (1530, 64)\n",
      "\n",
      "== Validation ==\n",
      "Input:  (270, 64)\n",
      "Label:  (270,)\n",
      "Mask:  (270, 64)\n",
      "\n",
      "== Test ==\n",
      "Input:  (200, 64)\n",
      "Label:  (200,)\n",
      "Mask:  (200, 64)\n"
     ]
    }
   ],
   "source": [
    "import numpy as np\n",
    "print(\"== Train ==\")\n",
    "print(\"Input: \", train_input.shape)\n",
    "print(\"Label: \", train_labels.shape)\n",
    "print(\"Mask: \", np.array(train_mask).shape)\n",
    "\n",
    "print(\"\\n== Validation ==\")\n",
    "print(\"Input: \", validation_input.shape)\n",
    "print(\"Label: \", validation_labels.shape)\n",
    "print(\"Mask: \", np.array(validation_mask).shape)\n",
    "\n",
    "print(\"\\n== Test ==\")\n",
    "print(\"Input: \", test_input.shape)\n",
    "print(\"Label: \", test_labels.shape)\n",
    "print(\"Mask: \", np.array(test_mask).shape)"
   ]
  },
  {
   "cell_type": "code",
   "execution_count": 42,
   "id": "b0021144-8963-4966-9e73-a4718736bc3d",
   "metadata": {},
   "outputs": [],
   "source": [
    "train_input = torch.tensor(train_input)\n",
    "train_labels = torch.tensor(train_labels)\n",
    "train_mask = torch.tensor(train_mask)\n",
    "\n",
    "validation_input = torch.tensor(validation_input)\n",
    "validation_labels = torch.tensor(validation_labels)\n",
    "validation_mask = torch.tensor(validation_mask)\n",
    "\n",
    "test_input = torch.tensor(test_input)\n",
    "test_labels = torch.tensor(test_labels)\n",
    "test_mask = torch.tensor(test_mask)"
   ]
  },
  {
   "cell_type": "code",
   "execution_count": 43,
   "id": "9039a566-da1d-4266-9007-00515a0ef8db",
   "metadata": {},
   "outputs": [],
   "source": [
    "from torch.utils.data import TensorDataset, DataLoader, RandomSampler, SequentialSampler\n",
    "\n",
    "batch_size = 32\n",
    "\n",
    "train_data = TensorDataset(train_input, train_mask, train_labels)\n",
    "train_sampler = RandomSampler(train_data)\n",
    "train_dataloader = DataLoader(train_data, sampler=train_sampler, batch_size=batch_size)\n",
    "\n",
    "validation_data = TensorDataset(validation_input, validation_mask, validation_labels)\n",
    "validation_sampler = SequentialSampler(validation_data)\n",
    "validation_dataloader = DataLoader(validation_data, sampler=validation_sampler, batch_size=batch_size)\n",
    "\n",
    "test_data = TensorDataset(test_input, test_mask, test_labels)\n",
    "test_sampler = SequentialSampler(test_data)\n",
    "test_dataloader = DataLoader(test_data, sampler=test_sampler, batch_size=batch_size)"
   ]
  },
  {
   "cell_type": "code",
   "execution_count": 44,
   "id": "7de96595-35fb-45c5-b035-9a34866e6c8e",
   "metadata": {},
   "outputs": [
    {
     "name": "stderr",
     "output_type": "stream",
     "text": [
      "Some weights of BertForSequenceClassification were not initialized from the model checkpoint at bert-base-multilingual-uncased and are newly initialized: ['classifier.weight', 'classifier.bias']\n",
      "You should probably TRAIN this model on a down-stream task to be able to use it for predictions and inference.\n"
     ]
    }
   ],
   "source": [
    "from transformers import BertForSequenceClassification, AdamW, BertConfig\n",
    "\n",
    "model = BertForSequenceClassification.from_pretrained(\n",
    "    \"bert-base-multilingual-uncased\",\n",
    "    num_labels = 3,\n",
    "    output_attentions = False,\n",
    "    output_hidden_states = False\n",
    ")\n"
   ]
  },
  {
   "cell_type": "code",
   "execution_count": 45,
   "id": "944da474-e6a2-4bf3-bdc3-9587f05ee1f6",
   "metadata": {},
   "outputs": [
    {
     "name": "stdout",
     "output_type": "stream",
     "text": [
      "The BERT model has 201 different named parameters.\n",
      "==== Embedding Layer ====\n",
      "bert.embeddings.word_embeddings.weight                       (105879, 768)\n",
      "bert.embeddings.position_embeddings.weight                     (512, 768)\n",
      "bert.embeddings.token_type_embeddings.weight                     (2, 768)\n",
      "bert.embeddings.LayerNorm.weight                                   (768,)\n",
      "bert.embeddings.LayerNorm.bias                                     (768,)\n",
      "==== First Transformers ====\n",
      "bert.encoder.layer.0.attention.self.query.weight               (768, 768)\n",
      "bert.encoder.layer.0.attention.self.query.bias                     (768,)\n",
      "bert.encoder.layer.0.attention.self.key.weight                 (768, 768)\n",
      "bert.encoder.layer.0.attention.self.key.bias                       (768,)\n",
      "bert.encoder.layer.0.attention.self.value.weight               (768, 768)\n",
      "bert.encoder.layer.0.attention.self.value.bias                     (768,)\n",
      "bert.encoder.layer.0.attention.output.dense.weight             (768, 768)\n",
      "bert.encoder.layer.0.attention.output.dense.bias                   (768,)\n",
      "bert.encoder.layer.0.attention.output.LayerNorm.weight             (768,)\n",
      "bert.encoder.layer.0.attention.output.LayerNorm.bias               (768,)\n",
      "bert.encoder.layer.0.intermediate.dense.weight                (3072, 768)\n",
      "bert.encoder.layer.0.intermediate.dense.bias                      (3072,)\n",
      "bert.encoder.layer.0.output.dense.weight                      (768, 3072)\n",
      "bert.encoder.layer.0.output.dense.bias                             (768,)\n",
      "bert.encoder.layer.0.output.LayerNorm.weight                       (768,)\n",
      "bert.encoder.layer.0.output.LayerNorm.bias                         (768,)\n",
      "==== Output Layer ====\n",
      "bert.pooler.dense.weight                                       (768, 768)\n",
      "bert.pooler.dense.bias                                             (768,)\n",
      "classifier.weight                                                (3, 768)\n",
      "classifier.bias                                                      (3,)\n"
     ]
    }
   ],
   "source": [
    "params = list(model.named_parameters())\n",
    "\n",
    "print(\"The BERT model has {:} different named parameters.\".format(len(params)))\n",
    "\n",
    "print(\"==== Embedding Layer ====\")\n",
    "for p in params[0:5]:\n",
    "  print(\"{:<60} {:>12}\".format(p[0], str(tuple(p[1].size()))))\n",
    "\n",
    "print(\"==== First Transformers ====\")\n",
    "for p in params[5:21]:\n",
    "  print(\"{:<60} {:>12}\".format(p[0], str(tuple(p[1].size()))))\n",
    "\n",
    "print(\"==== Output Layer ====\")\n",
    "for p in params[-4:]:\n",
    "  print(\"{:<60} {:>12}\".format(p[0], str(tuple(p[1].size()))))"
   ]
  },
  {
   "cell_type": "code",
   "execution_count": 46,
   "id": "2c6481e3-56af-4cc0-93ad-0387207048a0",
   "metadata": {},
   "outputs": [
    {
     "name": "stderr",
     "output_type": "stream",
     "text": [
      "c:\\Users\\ASUS\\anaconda3\\Lib\\site-packages\\transformers\\optimization.py:411: FutureWarning: This implementation of AdamW is deprecated and will be removed in a future version. Use the PyTorch implementation torch.optim.AdamW instead, or set `no_deprecation_warning=True` to disable this warning\n",
      "  warnings.warn(\n"
     ]
    }
   ],
   "source": [
    "optimizer = AdamW(\n",
    "    model.parameters(),\n",
    "    lr = 2e-5,\n",
    "    eps = 1e-8\n",
    ")"
   ]
  },
  {
   "cell_type": "code",
   "execution_count": 47,
   "id": "5dbefe2a-27e8-4afe-aa37-c1d6dc6a26be",
   "metadata": {},
   "outputs": [],
   "source": [
    "from transformers import get_linear_schedule_with_warmup\n",
    "\n",
    "epochs = 5\n",
    "\n",
    "total_steps = len(train_dataloader) * epochs\n",
    "\n",
    "scheduler = get_linear_schedule_with_warmup(optimizer, num_warmup_steps = 0, num_training_steps = total_steps)"
   ]
  },
  {
   "cell_type": "code",
   "execution_count": 48,
   "id": "261b2888-3dd6-453c-91b0-a4ba17a1cff0",
   "metadata": {},
   "outputs": [],
   "source": [
    "import numpy as np\n",
    "\n",
    "def flat_accuracy(preds, labels):\n",
    "  pred_flat = np.argmax(preds, axis=1).flatten()\n",
    "  labels_flat = labels.flatten()\n",
    "  return np.sum(pred_flat == labels_flat) / len(labels_flat)"
   ]
  },
  {
   "cell_type": "code",
   "execution_count": 49,
   "id": "07e9684b-db8d-4294-b143-b5581e40e63b",
   "metadata": {},
   "outputs": [],
   "source": [
    "import time\n",
    "import datetime\n",
    "\n",
    "def format_time(elapsed):\n",
    "  elapsed_rounded = int(round(elapsed))\n",
    "  return str(datetime.timedelta(seconds=elapsed_rounded))"
   ]
  },
  {
   "cell_type": "code",
   "execution_count": 50,
   "id": "f51b87a3-5279-4ec8-a30c-be075447da17",
   "metadata": {},
   "outputs": [
    {
     "name": "stdout",
     "output_type": "stream",
     "text": [
      "======= Epoch 1 / 5 =======\n",
      "Training...\n",
      "Batch    40 of    48.     Elapsed: 0:06:48\n",
      "   Average training loss: 0.81\n",
      "   Training epoch took: 0:08:06\n",
      "Running Validation...\n",
      "   Accuracy: 0.77\n",
      "   Validation took: 0:00:26\n",
      "======= Epoch 2 / 5 =======\n",
      "Training...\n",
      "Batch    40 of    48.     Elapsed: 0:06:48\n",
      "   Average training loss: 0.68\n",
      "   Training epoch took: 0:08:09\n",
      "Running Validation...\n",
      "   Accuracy: 0.77\n",
      "   Validation took: 0:00:26\n",
      "======= Epoch 3 / 5 =======\n",
      "Training...\n",
      "Batch    40 of    48.     Elapsed: 0:06:49\n",
      "   Average training loss: 0.59\n",
      "   Training epoch took: 0:08:08\n",
      "Running Validation...\n",
      "   Accuracy: 0.76\n",
      "   Validation took: 0:00:27\n",
      "======= Epoch 4 / 5 =======\n",
      "Training...\n"
     ]
    }
   ],
   "source": [
    "import random\n",
    "\n",
    "seed_val = 42\n",
    "\n",
    "random.seed(seed_val)\n",
    "np.random.seed(seed_val)\n",
    "torch.manual_seed(seed_val)\n",
    "\n",
    "loss_values = []\n",
    "\n",
    "for epoch_i in range(0, epochs):\n",
    "\n",
    "#Training time\n",
    "  print(\"======= Epoch {:} / {:} =======\".format(epoch_i+1, epochs))\n",
    "  print(\"Training...\")\n",
    "\n",
    "  t0 = time.time()\n",
    "\n",
    "  total_loss = 0\n",
    "#only to prepare the model in a state of where it's ready for training\n",
    "  model.train()\n",
    "\n",
    "  #for each batch of training data\n",
    "  for step, batch in enumerate(train_dataloader):\n",
    "    \n",
    "    #progress update every 40 batches\n",
    "    if step % 40 == 0 and not step == 0:\n",
    "      elapsed = format_time(time.time() - t0)\n",
    "\n",
    "      print(\"Batch {:>5,} of {:>5,}.     Elapsed: {:}\".format(step, len(train_dataloader), elapsed))\n",
    "    \n",
    "    b_input_ids = batch[0].to(device)\n",
    "    b_input_mask = batch[1].to(device)\n",
    "    b_labels = batch[2].to(device)\n",
    "\n",
    "    model.zero_grad()\n",
    "\n",
    "    outputs = model(b_input_ids,\n",
    "                    token_type_ids=None,\n",
    "                    attention_mask=b_input_mask,\n",
    "                    labels=b_labels)\n",
    "    \n",
    "    loss = outputs[0]\n",
    "    total_loss += loss.item()\n",
    "    loss.backward()\n",
    "    torch.nn.utils.clip_grad_norm_(model.parameters(), 1.0)\n",
    "    optimizer.step()\n",
    "    scheduler.step()\n",
    "\n",
    "  avg_train_loss = total_loss / len(train_dataloader)\n",
    "  loss_values.append(avg_train_loss)\n",
    "\n",
    "  print(\"   Average training loss: {0:.2f}\".format(avg_train_loss))\n",
    "  print(\"   Training epoch took: {:}\".format(format_time(time.time() - t0)))\n",
    "\n",
    "#validation time\n",
    "  print(\"Running Validation...\")\n",
    "  t0 = time.time()\n",
    "  model.eval()\n",
    "  eval_loss, eval_accuracy = 0, 0\n",
    "  nb_eval_steps, nb_eval_examples = 0, 0\n",
    "\n",
    "  for batch in validation_dataloader:\n",
    "    batch = tuple(t.to(device) for t in batch)\n",
    "    b_input_ids, b_input_mask, b_labels = batch\n",
    "    with torch.no_grad():\n",
    "      outputs = model(b_input_ids,\n",
    "                      token_type_ids=None,\n",
    "                      attention_mask=b_input_mask)\n",
    "    \n",
    "    logits = outputs[0]\n",
    "    logits = logits.detach().cpu().numpy()\n",
    "    label_ids = b_labels.to('cpu').numpy()\n",
    "\n",
    "    tmp_eval_accuracy = flat_accuracy(logits, label_ids)\n",
    "    eval_accuracy += tmp_eval_accuracy\n",
    "    nb_eval_steps += 1\n",
    "  \n",
    "  print(\"   Accuracy: {0:.2f}\".format(eval_accuracy/nb_eval_steps))\n",
    "  print(\"   Validation took: {:}\".format(format_time(time.time() - t0)))\n",
    "\n",
    "print(\"Training complete!\")"
   ]
  },
  {
   "cell_type": "code",
   "execution_count": null,
   "id": "86d472d9-925a-4792-bb0d-81bd51156fb7",
   "metadata": {},
   "outputs": [
    {
     "data": {
      "image/png": "[encoded data removed]",
      "text/plain": [
       "<Figure size 1200x600 with 1 Axes>"
      ]
     },
     "metadata": {},
     "output_type": "display_data"
    }
   ],
   "source": [
    "%matplotlib inline\n",
    "import matplotlib.pyplot as plt\n",
    "\n",
    "\n",
    "#plotting will be continued once this thing is done training bro\n",
    "import seaborn as sns\n",
    "\n",
    "sns.set(style='darkgrid')\n",
    "\n",
    "sns.set(font_scale=1.5)\n",
    "plt.rcParams[\"figure.figsize\"] = (12,6)\n",
    "\n",
    "plt.plot(loss_values, 'b-o')\n",
    "\n",
    "plt.title(\"Training loss\")\n",
    "plt.xlabel(\"Epoch\")\n",
    "plt.ylabel(\"Loss\")\n",
    "\n",
    "plt.show()"
   ]
  },
  {
   "cell_type": "code",
   "execution_count": null,
   "id": "3adf3aa0-533d-48c2-8885-d7e4ff3fe532",
   "metadata": {},
   "outputs": [
    {
     "name": "stdout",
     "output_type": "stream",
     "text": [
      "Predicting labels for 200 test sentences\n",
      "finally??? done!!!!\n"
     ]
    }
   ],
   "source": [
    "print(\"Predicting labels for {:,} test sentences\".format(len(test_input)))\n",
    "\n",
    "model.eval()\n",
    "\n",
    "prediction, true_labels = [], []\n",
    "\n",
    "for batch in test_dataloader:\n",
    "  batch = tuple(t.to(device) for t in batch)\n",
    "\n",
    "  b_input_ids, b_input_mask, b_labels = batch\n",
    "\n",
    "  with torch.no_grad():\n",
    "    outputs = model(b_input_ids,\n",
    "                    token_type_ids=None,\n",
    "                    attention_mask=b_input_mask)\n",
    "    \n",
    "  logits = outputs[0]\n",
    "\n",
    "  logits = logits.detach().cpu().numpy()\n",
    "  label_ids = b_labels.to('cpu').numpy()\n",
    "\n",
    "  prediction.append(logits)\n",
    "  true_labels.append(label_ids)\n",
    "\n",
    "print(\"finally??? done!!!!\")"
   ]
  },
  {
   "cell_type": "code",
   "execution_count": null,
   "id": "a8d2b184-a127-48d1-a1c3-7010007a1d93",
   "metadata": {},
   "outputs": [
    {
     "name": "stdout",
     "output_type": "stream",
     "text": [
      "MATTHEWS_CC: 0.318\n"
     ]
    }
   ],
   "source": [
    "from sklearn.metrics import matthews_corrcoef\n",
    "\n",
    "flat_prediction = [item for sublist in prediction for item in sublist]\n",
    "flat_prediction = np.argmax(flat_prediction, axis=1).flatten()\n",
    "\n",
    "flat_true_labels = [item for sublist in true_labels for item in sublist]\n",
    "\n",
    "mcc = matthews_corrcoef(flat_true_labels, flat_prediction)\n",
    "\n",
    "print(\"MATTHEWS_CC: %.3f\" %mcc)"
   ]
  },
  {
   "cell_type": "code",
   "execution_count": null,
   "id": "ee24d964-18ec-4170-af23-59842b5f23f5",
   "metadata": {},
   "outputs": [
    {
     "name": "stdout",
     "output_type": "stream",
     "text": [
      "ACCURACY: 0.725\n"
     ]
    }
   ],
   "source": [
    "from sklearn.metrics import accuracy_score\n",
    "\n",
    "acc = accuracy_score(flat_true_labels, flat_prediction)\n",
    "\n",
    "print(\"ACCURACY: %.3f\" %acc)"
   ]
  },
  {
   "cell_type": "code",
   "execution_count": null,
   "id": "c526acc2-c923-4e17-8b61-d2456f5e4f60",
   "metadata": {},
   "outputs": [],
   "source": []
  }
 ],
 "metadata": {
  "kernelspec": {
   "display_name": "Python 3 (ipykernel)",
   "language": "python",
   "name": "python3"
  },
  "language_info": {
   "codemirror_mode": {
    "name": "ipython",
    "version": 3
   },
   "file_extension": ".py",
   "mimetype": "text/x-python",
   "name": "python",
   "nbconvert_exporter": "python",
   "pygments_lexer": "ipython3",
   "version": "3.11.5"
  }
 },
 "nbformat": 4,
 "nbformat_minor": 5
}
